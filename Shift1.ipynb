{
 "cells": [
  {
   "cell_type": "code",
   "execution_count": 22,
   "id": "0c37ae3b",
   "metadata": {},
   "outputs": [
    {
     "name": "stdout",
     "output_type": "stream",
     "text": [
      "   # Randomly generated data for apersonnel scheduling problem\n",
      "0   # ./datagen tightness = 90 Multi-skilling leve...         \n",
      "1                  # Random number generator seed = 0         \n",
      "2                                            Type = 1         \n",
      "3                                           Jobs = 40         \n",
      "4                                            236  809         \n",
      "..                                                ...         \n",
      "65   24:   8   3  15  19   6  25  16  13  20  12  ...         \n",
      "66   28:  12  31  35  33   3   8  22  15  38  20  ...         \n",
      "67   30:  20  31   3   0  22  32  12  24   7  39  ...         \n",
      "68   23:  27  10   6  12  38  19  25   0   2  17  ...         \n",
      "69   28:  28   0  30  20  34   7   5  23  21  14  ...         \n",
      "\n",
      "[70 rows x 1 columns]\n"
     ]
    }
   ],
   "source": [
    "import pandas as pd\n",
    "\n",
    "# Load the data from the file\n",
    "file_path = \"ptask\\\\data_3_25_40_66.dat\"\n",
    "data = pd.read_csv(file_path)  # Adjust delimiter if necessary\n",
    "\n",
    "# Display the first few rows of the data\n",
    "print(data)"
   ]
  },
  {
   "cell_type": "code",
   "execution_count": 23,
   "id": "e471c267",
   "metadata": {},
   "outputs": [
    {
     "name": "stdout",
     "output_type": "stream",
     "text": [
      "Extracted Multi-skilling level: 66\n"
     ]
    }
   ],
   "source": [
    "import re\n",
    "\n",
    "# Extract the multi-skilling level from the data\n",
    "\n",
    "# Assuming the multi-skilling level is mentioned in the first row of the data\n",
    "multi_skilling_level_match = re.search(r\"Multi-skilling level = (\\d+)\", data.iloc[0, 0])\n",
    "if multi_skilling_level_match:\n",
    "    multi_skilling_level = int(multi_skilling_level_match.group(1))\n",
    "    print(\"Extracted Multi-skilling level:\", multi_skilling_level)\n",
    "else:\n",
    "    print(\"Multi-skilling level not found.\")"
   ]
  },
  {
   "cell_type": "code",
   "execution_count": 24,
   "id": "c82ee799",
   "metadata": {},
   "outputs": [
    {
     "name": "stdout",
     "output_type": "stream",
     "text": [
      "Extracted Type: 1\n"
     ]
    }
   ],
   "source": [
    "# Extract the Type value from the data\n",
    "type_match = re.search(r\"Type = (\\d+)\", data.iloc[2, 0])\n",
    "if type_match:\n",
    "    extracted_type = int(type_match.group(1))\n",
    "    print(\"Extracted Type:\", extracted_type)\n",
    "else:\n",
    "    print(\"Type not found.\")"
   ]
  },
  {
   "cell_type": "code",
   "execution_count": 25,
   "id": "fc57fbed",
   "metadata": {},
   "outputs": [
    {
     "name": "stdout",
     "output_type": "stream",
     "text": [
      "Extracted Jobs: 40\n"
     ]
    }
   ],
   "source": [
    "# Extract the Jobs value from the data\n",
    "jobs_match = re.search(r\"Jobs = (\\d+)\", data.iloc[3, 0])\n",
    "if jobs_match:\n",
    "    jobs = int(jobs_match.group(1))\n",
    "    print(\"Extracted Jobs:\", jobs)\n",
    "else:\n",
    "    print(\"Jobs not found.\")"
   ]
  },
  {
   "cell_type": "code",
   "execution_count": 28,
   "id": "7bcd9680",
   "metadata": {
    "vscode": {
     "languageId": "ruby"
    }
   },
   "outputs": [
    {
     "name": "stdout",
     "output_type": "stream",
     "text": [
      "Extracted Qualifications: 25\n"
     ]
    }
   ],
   "source": [
    "# Extract the Qualifications value from the data\n",
    "qualifications_match = re.search(r\"Qualifications = (\\d+)\", data.iloc[jobs + 4, 0])\n",
    "if qualifications_match:\n",
    "    qualifications = int(qualifications_match.group(1))\n",
    "    print(\"Extracted Qualifications:\", qualifications)\n",
    "else:\n",
    "    print(\"Qualifications not found.\")"
   ]
  },
  {
   "cell_type": "code",
   "execution_count": 29,
   "id": "0d2f93ca",
   "metadata": {},
   "outputs": [
    {
     "name": "stdout",
     "output_type": "stream",
     "text": [
      "Extracted Start and End Times:\n",
      "[[236, 809], [281, 786], [147, 644], [90, 598], [187, 804], [86, 620], [184, 749], [13, 565], [680, 1246], [183, 669], [657, 1301], [812, 1370], [796, 1365], [87, 554], [48, 668], [142, 732], [210, 688], [786, 1282], [246, 810], [76, 740], [825, 1338], [668, 1254], [702, 1224], [292, 841], [50, 577], [857, 1351], [35, 570], [83, 572], [65, 658], [807, 1322], [596, 1231], [774, 1260], [650, 1309], [621, 1183], [766, 1280], [706, 1253], [790, 1327], [844, 1350], [900, 1384], [589, 1126]]\n"
     ]
    }
   ],
   "source": [
    "# Extract the start and end times from the data\n",
    "start_end_data = data.iloc[4:44, 0]  # Rows 4 to 43 contain the start and end times\n",
    "start_end_list = [list(map(int, row.split())) for row in start_end_data]\n",
    "\n",
    "print(\"Extracted Start and End Times:\")\n",
    "print(start_end_list)"
   ]
  },
  {
   "cell_type": "code",
   "execution_count": null,
   "id": "3bdf9cb7",
   "metadata": {},
   "outputs": [
    {
     "name": "stdout",
     "output_type": "stream",
     "text": [
      "Extracted Qualified Jobs:\n",
      "[[4, 29, 0, 1, 3, 5, 6, 7, 9, 10, 11, 12, 13, 14, 15, 16, 17, 18, 19, 20, 22, 23, 24, 25, 27, 28, 31, 33, 34, 36, 38], [14, 22, 0, 1, 2, 3, 5, 6, 9, 10, 11, 13, 15, 16, 18, 20, 21, 23, 25, 27, 28, 30, 33, 34, 35, 38], [24, 30, 0, 2, 4, 5, 6, 8, 10, 11, 12, 13, 14, 15, 17, 18, 19, 20, 21, 22, 26, 27, 28, 33, 34, 35, 37, 38, 39], [5, 10, 3, 6, 7, 9, 11, 12, 13, 15, 17, 19, 20, 21, 22, 23, 24, 27, 28, 29, 32, 33, 34, 37, 39], [26, 32, 0, 1, 2, 3, 5, 6, 7, 8, 10, 11, 12, 16, 17, 18, 19, 20, 21, 22, 24, 25, 27, 29, 31, 33, 37, 38, 39], [19, 36, 0, 3, 4, 5, 6, 8, 9, 10, 11, 12, 13, 15, 16, 17, 18, 20, 21, 23, 24, 26, 27, 28, 29, 32, 33, 34, 35, 37], [13, 39, 1, 2, 4, 5, 7, 9, 10, 11, 14, 16, 19, 20, 21, 22, 25, 26, 28, 30, 31, 32, 33, 35, 36, 37, 38], [16, 35, 0, 1, 2, 3, 4, 5, 8, 9, 12, 13, 14, 17, 19, 20, 21, 22, 25, 27, 28, 29, 33, 34, 36, 38], [23, 38, 0, 1, 2, 3, 4, 6, 7, 8, 10, 12, 13, 14, 15, 18, 19, 20, 21, 22, 25, 26, 27, 28, 29, 30, 32, 35, 37], [7, 31, 0, 2, 4, 6, 8, 10, 11, 12, 14, 16, 17, 18, 19, 21, 22, 23, 24, 25, 26, 27, 30, 32, 33, 35, 36, 37, 38, 39], [9, 11, 0, 2, 5, 6, 7, 10, 12, 13, 14, 15, 16, 18, 19, 21, 25, 26, 28, 32, 34, 37, 39], [27, 33, 0, 3, 5, 8, 9, 14, 15, 17, 18, 20, 21, 22, 25, 26, 28, 30, 32, 34, 35, 37, 38, 39], [18, 25, 0, 1, 2, 4, 6, 7, 11, 12, 13, 16, 17, 19, 21, 22, 24, 27, 29, 30, 31, 32, 33, 38], [6, 17, 0, 1, 2, 4, 5, 7, 8, 9, 10, 11, 14, 15, 16, 19, 20, 21, 24, 25, 26, 27, 30, 31, 33, 35, 36, 37, 38, 39], [2, 8, 0, 3, 5, 7, 9, 10, 11, 12, 13, 14, 16, 17, 18, 21, 22, 23, 25, 27, 29, 31, 32, 33, 35, 36, 37, 38], [1, 12, 2, 4, 5, 6, 8, 9, 10, 15, 18, 19, 20, 21, 22, 23, 24, 25, 26, 27, 30, 31, 32, 34, 35, 36, 39], [0, 37, 1, 2, 3, 4, 6, 7, 8, 9, 10, 11, 13, 15, 18, 23, 24, 26, 27, 28, 30, 31, 32, 33, 35, 38, 39], [3, 21, 1, 5, 8, 9, 10, 12, 14, 15, 16, 17, 20, 22, 23, 25, 26, 27, 29, 30, 33, 35, 36, 37, 39], [15, 20, 0, 1, 2, 5, 6, 7, 8, 10, 12, 13, 19, 21, 22, 24, 25, 27, 29, 31, 32, 33, 34, 35, 38, 39], [28, 34, 0, 2, 5, 6, 8, 10, 12, 13, 14, 15, 17, 18, 19, 20, 21, 22, 23, 24, 25, 29, 30, 32, 33, 35, 36, 37, 38, 39], [8, 3, 15, 19, 6, 25, 16, 13, 20, 12, 37, 4, 7, 23, 1, 26, 5, 38, 9, 10, 27, 0, 21, 22], [12, 31, 35, 33, 3, 8, 22, 15, 38, 20, 16, 9, 13, 23, 7, 14, 17, 1, 36, 4, 0, 27, 6, 39, 11, 19, 21, 10], [20, 31, 3, 0, 22, 32, 12, 24, 7, 39, 38, 5, 14, 37, 36, 10, 26, 13, 17, 25, 28, 21, 9, 23, 4, 33, 18, 8, 6, 29], [27, 10, 6, 12, 38, 19, 25, 0, 2, 17, 32, 28, 21, 7, 9, 18, 8, 30, 22, 34, 13, 23, 5], [28, 0, 30, 20, 34, 7, 5, 23, 21, 14, 22, 31, 18, 12, 10, 4, 2, 25, 24, 37, 15, 16, 26, 9, 11, 32, 36, 29]]\n"
     ]
    }
   ],
   "source": [
    "# Extract lines containing qualified jobs\n",
    "qualified_jobs_lines = data.iloc[jobs + 5:, 0]  # Adjust the starting row based on the data structure\n",
    "qualified_jobs_pattern = re.compile(r\"^\\s*\\d+:((?:\\s+\\d+)+)\")\n",
    "\n",
    "qualified_jobs = []\n",
    "for line in qualified_jobs_lines:\n",
    "    match = qualified_jobs_pattern.match(line)\n",
    "    if match:\n",
    "        jobs_list = list(map(int, match.group(1).split()))\n",
    "        qualified_jobs.append(jobs_list)\n",
    "\n",
    "print(\"Extracted Qualified Jobs:\")\n",
    "print(qualified_jobs)"
   ]
  }
 ],
 "metadata": {
  "kernelspec": {
   "display_name": ".venv",
   "language": "python",
   "name": "python3"
  },
  "language_info": {
   "codemirror_mode": {
    "name": "ipython",
    "version": 3
   },
   "file_extension": ".py",
   "mimetype": "text/x-python",
   "name": "python",
   "nbconvert_exporter": "python",
   "pygments_lexer": "ipython3",
   "version": "3.12.6"
  }
 },
 "nbformat": 4,
 "nbformat_minor": 5
}
